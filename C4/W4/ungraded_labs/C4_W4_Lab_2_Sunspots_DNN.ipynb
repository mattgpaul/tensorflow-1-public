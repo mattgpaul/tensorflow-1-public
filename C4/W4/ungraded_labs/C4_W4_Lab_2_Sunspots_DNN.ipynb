{
 "cells": [
  {
   "cell_type": "markdown",
   "metadata": {},
   "source": [
    "<a href=\"https://colab.research.google.com/github/https-deeplearning-ai/tensorflow-1-public/blob/main/C4/W4/ungraded_labs/C4_W4_Lab_2_Sunspots_DNN.ipynb\" target=\"_parent\"><img src=\"https://colab.research.google.com/assets/colab-badge.svg\" alt=\"Open In Colab\"/></a>"
   ]
  },
  {
   "cell_type": "markdown",
   "metadata": {
    "id": "JQsk1BKwZrBh"
   },
   "source": [
    "# Ungraded Lab: Predicting Sunspots with Neural Networks (DNN only)\n",
    "\n",
    "In the remaining labs for this week, you will move away from synthetic time series and start building models for real world data. In particular, you will train on the [Sunspots](https://www.kaggle.com/datasets/robervalt/sunspots) dataset: a monthly record of sunspot numbers from January 1749 to July 2018. You will first build a deep neural network here composed of dense layers. This will act as your baseline so you can compare it to the next lab where you will use a more complex architecture.\n",
    "\n",
    "Let's begin!"
   ]
  },
  {
   "cell_type": "markdown",
   "metadata": {
    "id": "2JHlrB12aeFD"
   },
   "source": [
    "## Imports\n",
    "\n",
    "You will use the same imports as before with the addition of the [csv](https://docs.python.org/3/library/csv.html) module. You will need this to parse the CSV file containing the dataset."
   ]
  },
  {
   "cell_type": "code",
   "execution_count": 1,
   "metadata": {
    "id": "56XEQOGknrAk"
   },
   "outputs": [],
   "source": [
    "import tensorflow as tf\n",
    "import numpy as np\n",
    "import matplotlib.pyplot as plt\n",
    "import csv"
   ]
  },
  {
   "cell_type": "markdown",
   "metadata": {
    "id": "D-mNttnaagBH"
   },
   "source": [
    "## Utilities\n",
    "\n",
    "You will only have the `plot_series()` dataset here because you no longer need the synthetic data generation functions."
   ]
  },
  {
   "cell_type": "code",
   "execution_count": 2,
   "metadata": {
    "id": "sLl52leVp5wU"
   },
   "outputs": [],
   "source": [
    "def plot_series(x, y, format=\"-\", start=0, end=None, \n",
    "                title=None, xlabel=None, ylabel=None, legend=None ):\n",
    "    \"\"\"\n",
    "    Visualizes time series data\n",
    "\n",
    "    Args:\n",
    "      x (array of int) - contains values for the x-axis\n",
    "      y (array of int or tuple of arrays) - contains the values for the y-axis\n",
    "      format (string) - line style when plotting the graph\n",
    "      label (string) - tag for the line\n",
    "      start (int) - first time step to plot\n",
    "      end (int) - last time step to plot\n",
    "      title (string) - title of the plot\n",
    "      xlabel (string) - label for the x-axis\n",
    "      ylabel (string) - label for the y-axis\n",
    "      legend (list of strings) - legend for the plot\n",
    "    \"\"\"\n",
    "\n",
    "    # Setup dimensions of the graph figure\n",
    "    plt.figure(figsize=(10, 6))\n",
    "    \n",
    "    # Check if there are more than two series to plot\n",
    "    if type(y) is tuple:\n",
    "\n",
    "      # Loop over the y elements\n",
    "      for y_curr in y:\n",
    "\n",
    "        # Plot the x and current y values\n",
    "        plt.plot(x[start:end], y_curr[start:end], format)\n",
    "\n",
    "    else:\n",
    "      # Plot the x and y values\n",
    "      plt.plot(x[start:end], y[start:end], format)\n",
    "\n",
    "    # Label the x-axis\n",
    "    plt.xlabel(xlabel)\n",
    "\n",
    "    # Label the y-axis\n",
    "    plt.ylabel(ylabel)\n",
    "\n",
    "    # Set the legend\n",
    "    if legend:\n",
    "      plt.legend(legend)\n",
    "\n",
    "    # Set the title\n",
    "    plt.title(title)\n",
    "\n",
    "    # Overlay a grid on the graph\n",
    "    plt.grid(True)\n",
    "\n",
    "    # Draw the graph on screen\n",
    "    plt.show()"
   ]
  },
  {
   "cell_type": "markdown",
   "metadata": {
    "id": "dFJv45pDauS8"
   },
   "source": [
    "## Download and Preview the Dataset\n",
    "\n",
    "You can now download the dataset and inspect the contents. The link in class is from Laurence's repo but we also hosted it in the link below."
   ]
  },
  {
   "cell_type": "code",
   "execution_count": 3,
   "metadata": {
    "id": "YwI-si5xyUkQ"
   },
   "outputs": [
    {
     "name": "stdout",
     "output_type": "stream",
     "text": [
      "--2022-09-04 17:16:52--  https://storage.googleapis.com/tensorflow-1-public/course4/Sunspots.csv\n",
      "Resolving storage.googleapis.com (storage.googleapis.com)... 142.250.72.80, 142.250.69.240, 142.250.72.16, ...\n",
      "Connecting to storage.googleapis.com (storage.googleapis.com)|142.250.72.80|:443... connected.\n",
      "HTTP request sent, awaiting response... 200 OK\n",
      "Length: 70827 (69K) [text/csv]\n",
      "Saving to: ‘Sunspots.csv’\n",
      "\n",
      "Sunspots.csv        100%[===================>]  69.17K  --.-KB/s    in 0.01s   \n",
      "\n",
      "2022-09-04 17:16:52 (5.97 MB/s) - ‘Sunspots.csv’ saved [70827/70827]\n",
      "\n"
     ]
    }
   ],
   "source": [
    "# Download the dataset\n",
    "!wget https://storage.googleapis.com/tensorflow-1-public/course4/Sunspots.csv"
   ]
  },
  {
   "cell_type": "markdown",
   "metadata": {
    "id": "c0fAiMytrwPJ"
   },
   "source": [
    "Running the cell below, you'll see that there are only three columns in the dataset:\n",
    "1. untitled column containing the month number\n",
    "2. Date which has the format `YYYY-MM-DD`\n",
    "3. Mean Total Sunspot Number"
   ]
  },
  {
   "cell_type": "code",
   "execution_count": 4,
   "metadata": {
    "id": "d5W2auXKrhVh"
   },
   "outputs": [
    {
     "name": "stdout",
     "output_type": "stream",
     "text": [
      ",Date,Monthly Mean Total Sunspot Number\n",
      "0,1749-01-31,96.7\n",
      "1,1749-02-28,104.3\n",
      "2,1749-03-31,116.7\n",
      "3,1749-04-30,92.8\n",
      "4,1749-05-31,141.7\n",
      "5,1749-06-30,139.2\n",
      "6,1749-07-31,158.0\n",
      "7,1749-08-31,110.5\n",
      "8,1749-09-30,126.5\n"
     ]
    }
   ],
   "source": [
    "# Preview the dataset\n",
    "!head Sunspots.csv"
   ]
  },
  {
   "cell_type": "markdown",
   "metadata": {
    "id": "lbs-Y2SDsVaw"
   },
   "source": [
    "For this lab and the next, you will only need the month number and the mean total sunspot number. You will load those into memory and convert it to arrays that represents a time series."
   ]
  },
  {
   "cell_type": "code",
   "execution_count": 5,
   "metadata": {
    "id": "NcG9r1eClbTh"
   },
   "outputs": [
    {
     "data": {
      "image/png": "[encoded data removed]",
      "text/plain": [
       "<Figure size 720x432 with 1 Axes>"
      ]
     },
     "metadata": {
      "needs_background": "light"
     },
     "output_type": "display_data"
    }
   ],
   "source": [
    "# Initialize lists\n",
    "time_step = []\n",
    "sunspots = []\n",
    "\n",
    "# Open CSV file\n",
    "with open('./Sunspots.csv') as csvfile:\n",
    "  \n",
    "  # Initialize reader\n",
    "  reader = csv.reader(csvfile, delimiter=',')\n",
    "  \n",
    "  # Skip the first line\n",
    "  next(reader)\n",
    "  \n",
    "  # Append row and sunspot number to lists\n",
    "  for row in reader:\n",
    "    time_step.append(int(row[0]))\n",
    "    sunspots.append(float(row[2]))\n",
    "\n",
    "# Convert lists to numpy arrays\n",
    "time = np.array(time_step)\n",
    "series = np.array(sunspots)\n",
    "\n",
    "# Preview the data\n",
    "plot_series(time, series, xlabel='Month', ylabel='Monthly Mean Total Sunspot Number')"
   ]
  },
  {
   "cell_type": "markdown",
   "metadata": {
    "id": "EUQE9RRoazC5"
   },
   "source": [
    "## Split the Dataset\n",
    "\n",
    "Next, you will split the dataset into training and validation sets. There are 3235 points in the dataset and you will use the first 3000 for training."
   ]
  },
  {
   "cell_type": "code",
   "execution_count": 6,
   "metadata": {
    "id": "L92YRw_IpCFG"
   },
   "outputs": [],
   "source": [
    "# Define the split time\n",
    "split_time = 3000\n",
    "\n",
    "# Get the train set \n",
    "time_train = time[:split_time]\n",
    "x_train = series[:split_time]\n",
    "\n",
    "# Get the validation set\n",
    "time_valid = time[split_time:]\n",
    "x_valid = series[split_time:]"
   ]
  },
  {
   "cell_type": "markdown",
   "metadata": {
    "id": "RbuIOrb3a093"
   },
   "source": [
    "## Prepare Features and Labels\n",
    "\n",
    "You can then prepare the dataset windows as before. The window size is set to 30 points (equal to 2.5 years) but feel free to change later on if you want to experiment."
   ]
  },
  {
   "cell_type": "code",
   "execution_count": 7,
   "metadata": {
    "id": "lJwUUZscnG38"
   },
   "outputs": [],
   "source": [
    "def windowed_dataset(series, window_size, batch_size, shuffle_buffer):\n",
    "    \"\"\"Generates dataset windows\n",
    "\n",
    "    Args:\n",
    "      series (array of float) - contains the values of the time series\n",
    "      window_size (int) - the number of time steps to include in the feature\n",
    "      batch_size (int) - the batch size\n",
    "      shuffle_buffer(int) - buffer size to use for the shuffle method\n",
    "\n",
    "    Returns:\n",
    "      dataset (TF Dataset) - TF Dataset containing time windows\n",
    "    \"\"\"\n",
    "  \n",
    "    # Generate a TF Dataset from the series values\n",
    "    dataset = tf.data.Dataset.from_tensor_slices(series)\n",
    "    \n",
    "    # Window the data but only take those with the specified size\n",
    "    dataset = dataset.window(window_size + 1, shift=1, drop_remainder=True)\n",
    "    \n",
    "    # Flatten the windows by putting its elements in a single batch\n",
    "    dataset = dataset.flat_map(lambda window: window.batch(window_size + 1))\n",
    "\n",
    "    # Create tuples with features and labels \n",
    "    dataset = dataset.map(lambda window: (window[:-1], window[-1]))\n",
    "\n",
    "    # Shuffle the windows\n",
    "    dataset = dataset.shuffle(shuffle_buffer)\n",
    "    \n",
    "    # Create batches of windows\n",
    "    dataset = dataset.batch(batch_size).prefetch(1)\n",
    "    \n",
    "    return dataset"
   ]
  },
  {
   "cell_type": "code",
   "execution_count": 8,
   "metadata": {
    "id": "9g5zSxZwZQt_"
   },
   "outputs": [
    {
     "name": "stderr",
     "output_type": "stream",
     "text": [
      "2022-09-04 17:18:52.822662: I tensorflow/stream_executor/cuda/cuda_gpu_executor.cc:939] successful NUMA node read from SysFS had negative value (-1), but there must be at least one NUMA node, so returning NUMA node zero\n",
      "2022-09-04 17:18:52.849551: I tensorflow/stream_executor/cuda/cuda_gpu_executor.cc:939] successful NUMA node read from SysFS had negative value (-1), but there must be at least one NUMA node, so returning NUMA node zero\n",
      "2022-09-04 17:18:52.849731: I tensorflow/stream_executor/cuda/cuda_gpu_executor.cc:939] successful NUMA node read from SysFS had negative value (-1), but there must be at least one NUMA node, so returning NUMA node zero\n",
      "2022-09-04 17:18:52.850361: I tensorflow/core/platform/cpu_feature_guard.cc:151] This TensorFlow binary is optimized with oneAPI Deep Neural Network Library (oneDNN) to use the following CPU instructions in performance-critical operations:  AVX2 FMA\n",
      "To enable them in other operations, rebuild TensorFlow with the appropriate compiler flags.\n",
      "2022-09-04 17:18:52.851189: I tensorflow/stream_executor/cuda/cuda_gpu_executor.cc:939] successful NUMA node read from SysFS had negative value (-1), but there must be at least one NUMA node, so returning NUMA node zero\n",
      "2022-09-04 17:18:52.851371: I tensorflow/stream_executor/cuda/cuda_gpu_executor.cc:939] successful NUMA node read from SysFS had negative value (-1), but there must be at least one NUMA node, so returning NUMA node zero\n",
      "2022-09-04 17:18:52.851482: I tensorflow/stream_executor/cuda/cuda_gpu_executor.cc:939] successful NUMA node read from SysFS had negative value (-1), but there must be at least one NUMA node, so returning NUMA node zero\n",
      "2022-09-04 17:18:53.169542: I tensorflow/stream_executor/cuda/cuda_gpu_executor.cc:939] successful NUMA node read from SysFS had negative value (-1), but there must be at least one NUMA node, so returning NUMA node zero\n",
      "2022-09-04 17:18:53.169728: I tensorflow/stream_executor/cuda/cuda_gpu_executor.cc:939] successful NUMA node read from SysFS had negative value (-1), but there must be at least one NUMA node, so returning NUMA node zero\n",
      "2022-09-04 17:18:53.169860: I tensorflow/stream_executor/cuda/cuda_gpu_executor.cc:939] successful NUMA node read from SysFS had negative value (-1), but there must be at least one NUMA node, so returning NUMA node zero\n",
      "2022-09-04 17:18:53.169981: I tensorflow/core/common_runtime/gpu/gpu_device.cc:1525] Created device /job:localhost/replica:0/task:0/device:GPU:0 with 6798 MB memory:  -> device: 0, name: NVIDIA GeForce GTX 1070, pci bus id: 0000:2b:00.0, compute capability: 6.1\n"
     ]
    }
   ],
   "source": [
    "# Parameters\n",
    "window_size = 30\n",
    "batch_size = 32\n",
    "shuffle_buffer_size = 1000\n",
    "\n",
    "# Generate the dataset windows\n",
    "train_set = windowed_dataset(x_train, window_size, batch_size, shuffle_buffer_size)"
   ]
  },
  {
   "cell_type": "markdown",
   "metadata": {
    "id": "_Lhpi42ta5yP"
   },
   "source": [
    "## Build the Model\n",
    "\n",
    "The model will be 3-layer dense network as shown below."
   ]
  },
  {
   "cell_type": "code",
   "execution_count": 9,
   "metadata": {
    "id": "AclfYY3Mn6Ph"
   },
   "outputs": [
    {
     "name": "stdout",
     "output_type": "stream",
     "text": [
      "Model: \"sequential\"\n",
      "_________________________________________________________________\n",
      " Layer (type)                Output Shape              Param #   \n",
      "=================================================================\n",
      " dense (Dense)               (None, 30)                930       \n",
      "                                                                 \n",
      " dense_1 (Dense)             (None, 10)                310       \n",
      "                                                                 \n",
      " dense_2 (Dense)             (None, 1)                 11        \n",
      "                                                                 \n",
      "=================================================================\n",
      "Total params: 1,251\n",
      "Trainable params: 1,251\n",
      "Non-trainable params: 0\n",
      "_________________________________________________________________\n"
     ]
    }
   ],
   "source": [
    "# Build the model\n",
    "model = tf.keras.models.Sequential([\n",
    "    tf.keras.layers.Dense(30, input_shape=[window_size], activation=\"relu\"), \n",
    "    tf.keras.layers.Dense(10, activation=\"relu\"),\n",
    "    tf.keras.layers.Dense(1)\n",
    "])\n",
    "\n",
    "# Print the model summary\n",
    "model.summary()"
   ]
  },
  {
   "cell_type": "markdown",
   "metadata": {
    "id": "uyT14hQOa97V"
   },
   "source": [
    "## Tune the Learning Rate\n",
    "\n",
    "You can pick a learning rate by running the same learning rate scheduler code from previous labs."
   ]
  },
  {
   "cell_type": "code",
   "execution_count": 10,
   "metadata": {
    "id": "GXiqsZQ1y4nD"
   },
   "outputs": [
    {
     "name": "stdout",
     "output_type": "stream",
     "text": [
      "Epoch 1/100\n",
      "93/93 [==============================] - 1s 4ms/step - loss: 117.0530 - lr: 1.0000e-08\n",
      "Epoch 2/100\n",
      "93/93 [==============================] - 0s 1ms/step - loss: 115.7335 - lr: 1.1220e-08\n",
      "Epoch 3/100\n",
      "93/93 [==============================] - 0s 1ms/step - loss: 114.2417 - lr: 1.2589e-08\n",
      "Epoch 4/100\n",
      "93/93 [==============================] - 0s 1ms/step - loss: 112.5715 - lr: 1.4125e-08\n",
      "Epoch 5/100\n",
      "93/93 [==============================] - 0s 1ms/step - loss: 110.6995 - lr: 1.5849e-08\n",
      "Epoch 6/100\n",
      "93/93 [==============================] - 0s 1ms/step - loss: 108.6054 - lr: 1.7783e-08\n",
      "Epoch 7/100\n",
      "93/93 [==============================] - 0s 1ms/step - loss: 106.2537 - lr: 1.9953e-08\n",
      "Epoch 8/100\n",
      "93/93 [==============================] - 0s 1ms/step - loss: 103.6215 - lr: 2.2387e-08\n",
      "Epoch 9/100\n",
      "93/93 [==============================] - 0s 1ms/step - loss: 100.6642 - lr: 2.5119e-08\n",
      "Epoch 10/100\n",
      "93/93 [==============================] - 0s 1ms/step - loss: 97.3441 - lr: 2.8184e-08\n",
      "Epoch 11/100\n",
      "93/93 [==============================] - 0s 1ms/step - loss: 93.6365 - lr: 3.1623e-08\n",
      "Epoch 12/100\n",
      "93/93 [==============================] - 0s 1ms/step - loss: 89.4770 - lr: 3.5481e-08\n",
      "Epoch 13/100\n",
      "93/93 [==============================] - 0s 1ms/step - loss: 84.8155 - lr: 3.9811e-08\n",
      "Epoch 14/100\n",
      "93/93 [==============================] - 0s 1ms/step - loss: 79.5939 - lr: 4.4668e-08\n",
      "Epoch 15/100\n",
      "93/93 [==============================] - 0s 1ms/step - loss: 73.7755 - lr: 5.0119e-08\n",
      "Epoch 16/100\n",
      "93/93 [==============================] - 0s 1ms/step - loss: 67.2850 - lr: 5.6234e-08\n",
      "Epoch 17/100\n",
      "93/93 [==============================] - 0s 1ms/step - loss: 60.1961 - lr: 6.3096e-08\n",
      "Epoch 18/100\n",
      "93/93 [==============================] - 0s 1ms/step - loss: 52.7006 - lr: 7.0795e-08\n",
      "Epoch 19/100\n",
      "93/93 [==============================] - 0s 1ms/step - loss: 45.3965 - lr: 7.9433e-08\n",
      "Epoch 20/100\n",
      "93/93 [==============================] - 0s 1ms/step - loss: 39.1999 - lr: 8.9125e-08\n",
      "Epoch 21/100\n",
      "93/93 [==============================] - 0s 1ms/step - loss: 34.9475 - lr: 1.0000e-07\n",
      "Epoch 22/100\n",
      "93/93 [==============================] - 0s 1ms/step - loss: 32.4308 - lr: 1.1220e-07\n",
      "Epoch 23/100\n",
      "93/93 [==============================] - 0s 1ms/step - loss: 31.1736 - lr: 1.2589e-07\n",
      "Epoch 24/100\n",
      "93/93 [==============================] - 0s 1ms/step - loss: 30.4761 - lr: 1.4125e-07\n",
      "Epoch 25/100\n",
      "93/93 [==============================] - 0s 1ms/step - loss: 29.9786 - lr: 1.5849e-07\n",
      "Epoch 26/100\n",
      "93/93 [==============================] - 0s 1ms/step - loss: 29.5541 - lr: 1.7783e-07\n",
      "Epoch 27/100\n",
      "93/93 [==============================] - 0s 1ms/step - loss: 29.1306 - lr: 1.9953e-07\n",
      "Epoch 28/100\n",
      "93/93 [==============================] - 0s 1ms/step - loss: 28.6902 - lr: 2.2387e-07\n",
      "Epoch 29/100\n",
      "93/93 [==============================] - 0s 1ms/step - loss: 28.2399 - lr: 2.5119e-07\n",
      "Epoch 30/100\n",
      "93/93 [==============================] - 0s 1ms/step - loss: 27.7702 - lr: 2.8184e-07\n",
      "Epoch 31/100\n",
      "93/93 [==============================] - 0s 1ms/step - loss: 27.2792 - lr: 3.1623e-07\n",
      "Epoch 32/100\n",
      "93/93 [==============================] - 0s 1ms/step - loss: 26.7976 - lr: 3.5481e-07\n",
      "Epoch 33/100\n",
      "93/93 [==============================] - 0s 1ms/step - loss: 26.3394 - lr: 3.9811e-07\n",
      "Epoch 34/100\n",
      "93/93 [==============================] - 0s 1ms/step - loss: 25.9079 - lr: 4.4668e-07\n",
      "Epoch 35/100\n",
      "93/93 [==============================] - 0s 1ms/step - loss: 25.4445 - lr: 5.0119e-07\n",
      "Epoch 36/100\n",
      "93/93 [==============================] - 0s 1ms/step - loss: 25.0265 - lr: 5.6234e-07\n",
      "Epoch 37/100\n",
      "93/93 [==============================] - 0s 1ms/step - loss: 24.6200 - lr: 6.3096e-07\n",
      "Epoch 38/100\n",
      "93/93 [==============================] - 0s 1ms/step - loss: 24.2107 - lr: 7.0795e-07\n",
      "Epoch 39/100\n",
      "93/93 [==============================] - 0s 2ms/step - loss: 23.8354 - lr: 7.9433e-07\n",
      "Epoch 40/100\n",
      "93/93 [==============================] - 0s 1ms/step - loss: 23.4317 - lr: 8.9125e-07\n",
      "Epoch 41/100\n",
      "93/93 [==============================] - 0s 1ms/step - loss: 23.0770 - lr: 1.0000e-06\n",
      "Epoch 42/100\n",
      "93/93 [==============================] - 0s 1ms/step - loss: 22.7490 - lr: 1.1220e-06\n",
      "Epoch 43/100\n",
      "93/93 [==============================] - 0s 1ms/step - loss: 22.4332 - lr: 1.2589e-06\n",
      "Epoch 44/100\n",
      "93/93 [==============================] - 0s 1ms/step - loss: 22.1390 - lr: 1.4125e-06\n",
      "Epoch 45/100\n",
      "93/93 [==============================] - 0s 1ms/step - loss: 21.8342 - lr: 1.5849e-06\n",
      "Epoch 46/100\n",
      "93/93 [==============================] - 0s 1ms/step - loss: 21.5478 - lr: 1.7783e-06\n",
      "Epoch 47/100\n",
      "93/93 [==============================] - 0s 1ms/step - loss: 21.3000 - lr: 1.9953e-06\n",
      "Epoch 48/100\n",
      "93/93 [==============================] - 0s 1ms/step - loss: 21.0142 - lr: 2.2387e-06\n",
      "Epoch 49/100\n",
      "93/93 [==============================] - 0s 1ms/step - loss: 20.7445 - lr: 2.5119e-06\n",
      "Epoch 50/100\n",
      "93/93 [==============================] - 0s 1ms/step - loss: 20.4998 - lr: 2.8184e-06\n",
      "Epoch 51/100\n",
      "93/93 [==============================] - 0s 1ms/step - loss: 20.2006 - lr: 3.1623e-06\n",
      "Epoch 52/100\n",
      "93/93 [==============================] - 0s 1ms/step - loss: 20.0067 - lr: 3.5481e-06\n",
      "Epoch 53/100\n",
      "93/93 [==============================] - 0s 1ms/step - loss: 19.7721 - lr: 3.9811e-06\n",
      "Epoch 54/100\n",
      "93/93 [==============================] - 0s 2ms/step - loss: 19.5565 - lr: 4.4668e-06\n",
      "Epoch 55/100\n",
      "93/93 [==============================] - 0s 1ms/step - loss: 19.4783 - lr: 5.0119e-06\n",
      "Epoch 56/100\n",
      "93/93 [==============================] - 0s 2ms/step - loss: 19.1792 - lr: 5.6234e-06\n",
      "Epoch 57/100\n",
      "93/93 [==============================] - 0s 1ms/step - loss: 19.1961 - lr: 6.3096e-06\n",
      "Epoch 58/100\n",
      "93/93 [==============================] - 0s 1ms/step - loss: 18.8298 - lr: 7.0795e-06\n",
      "Epoch 59/100\n",
      "93/93 [==============================] - 0s 1ms/step - loss: 18.7444 - lr: 7.9433e-06\n",
      "Epoch 60/100\n",
      "93/93 [==============================] - 0s 2ms/step - loss: 18.5935 - lr: 8.9125e-06\n",
      "Epoch 61/100\n",
      "93/93 [==============================] - 0s 1ms/step - loss: 18.4685 - lr: 1.0000e-05\n",
      "Epoch 62/100\n",
      "93/93 [==============================] - 0s 2ms/step - loss: 18.4515 - lr: 1.1220e-05\n",
      "Epoch 63/100\n",
      "93/93 [==============================] - 0s 1ms/step - loss: 18.2437 - lr: 1.2589e-05\n",
      "Epoch 64/100\n",
      "93/93 [==============================] - 0s 2ms/step - loss: 18.2302 - lr: 1.4125e-05\n",
      "Epoch 65/100\n",
      "93/93 [==============================] - 0s 1ms/step - loss: 18.1728 - lr: 1.5849e-05\n",
      "Epoch 66/100\n",
      "93/93 [==============================] - 0s 1ms/step - loss: 18.2459 - lr: 1.7783e-05\n",
      "Epoch 67/100\n",
      "93/93 [==============================] - 0s 1ms/step - loss: 18.1326 - lr: 1.9953e-05\n",
      "Epoch 68/100\n",
      "93/93 [==============================] - 0s 1ms/step - loss: 18.2843 - lr: 2.2387e-05\n",
      "Epoch 69/100\n",
      "93/93 [==============================] - 0s 1ms/step - loss: 17.7365 - lr: 2.5119e-05\n",
      "Epoch 70/100\n",
      "93/93 [==============================] - 0s 1ms/step - loss: 18.3484 - lr: 2.8184e-05\n",
      "Epoch 71/100\n",
      "93/93 [==============================] - 0s 1ms/step - loss: 17.7128 - lr: 3.1623e-05\n",
      "Epoch 72/100\n",
      "93/93 [==============================] - 0s 1ms/step - loss: 17.6737 - lr: 3.5481e-05\n",
      "Epoch 73/100\n",
      "93/93 [==============================] - 0s 2ms/step - loss: 17.7571 - lr: 3.9811e-05\n",
      "Epoch 74/100\n",
      "93/93 [==============================] - 0s 1ms/step - loss: 17.8529 - lr: 4.4668e-05\n",
      "Epoch 75/100\n",
      "93/93 [==============================] - 0s 1ms/step - loss: 17.4784 - lr: 5.0119e-05\n",
      "Epoch 76/100\n",
      "93/93 [==============================] - 0s 1ms/step - loss: 17.9387 - lr: 5.6234e-05\n",
      "Epoch 77/100\n",
      "93/93 [==============================] - 0s 1ms/step - loss: 18.5082 - lr: 6.3096e-05\n",
      "Epoch 78/100\n",
      "93/93 [==============================] - 0s 1ms/step - loss: 18.0397 - lr: 7.0795e-05\n",
      "Epoch 79/100\n",
      "93/93 [==============================] - 0s 1ms/step - loss: 17.7438 - lr: 7.9433e-05\n",
      "Epoch 80/100\n",
      "93/93 [==============================] - 0s 1ms/step - loss: 17.8821 - lr: 8.9125e-05\n",
      "Epoch 81/100\n",
      "93/93 [==============================] - 0s 1ms/step - loss: 17.9613 - lr: 1.0000e-04\n",
      "Epoch 82/100\n",
      "93/93 [==============================] - 0s 1ms/step - loss: 17.9701 - lr: 1.1220e-04\n",
      "Epoch 83/100\n",
      "93/93 [==============================] - 0s 1ms/step - loss: 18.3455 - lr: 1.2589e-04\n",
      "Epoch 84/100\n",
      "93/93 [==============================] - 0s 1ms/step - loss: 18.3521 - lr: 1.4125e-04\n",
      "Epoch 85/100\n",
      "93/93 [==============================] - 0s 1ms/step - loss: 18.9003 - lr: 1.5849e-04\n",
      "Epoch 86/100\n",
      "93/93 [==============================] - 0s 1ms/step - loss: 18.8370 - lr: 1.7783e-04\n",
      "Epoch 87/100\n",
      "93/93 [==============================] - 0s 1ms/step - loss: 19.2102 - lr: 1.9953e-04\n",
      "Epoch 88/100\n",
      "93/93 [==============================] - 0s 1ms/step - loss: 19.1113 - lr: 2.2387e-04\n",
      "Epoch 89/100\n",
      "93/93 [==============================] - 0s 1ms/step - loss: 18.7201 - lr: 2.5119e-04\n",
      "Epoch 90/100\n",
      "93/93 [==============================] - 0s 1ms/step - loss: 18.6486 - lr: 2.8184e-04\n",
      "Epoch 91/100\n",
      "93/93 [==============================] - 0s 1ms/step - loss: 19.4516 - lr: 3.1623e-04\n",
      "Epoch 92/100\n",
      "93/93 [==============================] - 0s 1ms/step - loss: 21.3500 - lr: 3.5481e-04\n",
      "Epoch 93/100\n",
      "93/93 [==============================] - 0s 1ms/step - loss: 20.9068 - lr: 3.9811e-04\n",
      "Epoch 94/100\n",
      "93/93 [==============================] - 0s 1ms/step - loss: 22.1190 - lr: 4.4668e-04\n",
      "Epoch 95/100\n",
      "93/93 [==============================] - 0s 1ms/step - loss: 24.3363 - lr: 5.0119e-04\n",
      "Epoch 96/100\n",
      "93/93 [==============================] - 0s 1ms/step - loss: 22.6485 - lr: 5.6234e-04\n",
      "Epoch 97/100\n",
      "93/93 [==============================] - 0s 1ms/step - loss: 24.5051 - lr: 6.3096e-04\n",
      "Epoch 98/100\n",
      "93/93 [==============================] - 0s 1ms/step - loss: 27.2413 - lr: 7.0795e-04\n",
      "Epoch 99/100\n",
      "93/93 [==============================] - 0s 1ms/step - loss: 25.8269 - lr: 7.9433e-04\n",
      "Epoch 100/100\n",
      "93/93 [==============================] - 0s 1ms/step - loss: 32.0664 - lr: 8.9125e-04\n"
     ]
    }
   ],
   "source": [
    "# Set the learning rate scheduler\n",
    "lr_schedule = tf.keras.callbacks.LearningRateScheduler(\n",
    "    lambda epoch: 1e-8 * 10**(epoch / 20))\n",
    "\n",
    "# Initialize the optimizer\n",
    "optimizer = tf.keras.optimizers.SGD(momentum=0.9)\n",
    "\n",
    "# Set the training parameters\n",
    "model.compile(loss=tf.keras.losses.Huber(), optimizer=optimizer)\n",
    "\n",
    "# Train the model\n",
    "history = model.fit(train_set, epochs=100, callbacks=[lr_schedule])"
   ]
  },
  {
   "cell_type": "code",
   "execution_count": 13,
   "metadata": {
    "id": "xJFAB1NTzGJV"
   },
   "outputs": [
    {
     "data": {
      "text/plain": [
       "(1e-08, 0.001, 0.0, 100.0)"
      ]
     },
     "execution_count": 13,
     "metadata": {},
     "output_type": "execute_result"
    },
    {
     "data": {
      "image/png": "[encoded data removed]",
      "text/plain": [
       "<Figure size 720x432 with 1 Axes>"
      ]
     },
     "metadata": {
      "needs_background": "light"
     },
     "output_type": "display_data"
    }
   ],
   "source": [
    "# Define the learning rate array\n",
    "lrs = 1e-8 * (10 ** (np.arange(100) / 20))\n",
    "\n",
    "# Set the figure size\n",
    "plt.figure(figsize=(10, 6))\n",
    "\n",
    "# Set the grid\n",
    "plt.grid(True)\n",
    "\n",
    "# Plot the loss in log scale\n",
    "plt.semilogx(lrs, history.history[\"loss\"])\n",
    "\n",
    "# Increase the tickmarks size\n",
    "plt.tick_params('both', length=10, width=1, which='both')\n",
    "\n",
    "# Set the plot boundaries\n",
    "plt.axis([1e-8, 1e-3, 0, 100])"
   ]
  },
  {
   "cell_type": "markdown",
   "metadata": {
    "id": "oY4mnUpNbFdc"
   },
   "source": [
    "## Train the Model\n",
    "\n",
    "Once you've picked a learning rate, you can rebuild the model and start training."
   ]
  },
  {
   "cell_type": "code",
   "execution_count": 12,
   "metadata": {
    "id": "Ngna3zR4znJd"
   },
   "outputs": [],
   "source": [
    "# Reset states generated by Keras\n",
    "tf.keras.backend.clear_session()\n",
    "\n",
    "# Build the Model\n",
    "model = tf.keras.models.Sequential([\n",
    "    tf.keras.layers.Dense(30, input_shape=[window_size], activation=\"relu\"), \n",
    "    tf.keras.layers.Dense(10, activation=\"relu\"),\n",
    "    tf.keras.layers.Dense(1)\n",
    "])"
   ]
  },
  {
   "cell_type": "code",
   "execution_count": 14,
   "metadata": {
    "id": "7FKXvEYxzuoc"
   },
   "outputs": [
    {
     "name": "stdout",
     "output_type": "stream",
     "text": [
      "Epoch 1/100\n",
      "93/93 [==============================] - 0s 2ms/step - loss: 41.0896 - mae: 41.5861\n",
      "Epoch 2/100\n",
      "93/93 [==============================] - 0s 2ms/step - loss: 20.1734 - mae: 20.6676\n",
      "Epoch 3/100\n",
      "93/93 [==============================] - 0s 1ms/step - loss: 18.9323 - mae: 19.4253\n",
      "Epoch 4/100\n",
      "93/93 [==============================] - 0s 2ms/step - loss: 18.5189 - mae: 19.0125\n",
      "Epoch 5/100\n",
      "93/93 [==============================] - 0s 1ms/step - loss: 18.1460 - mae: 18.6382\n",
      "Epoch 6/100\n",
      "93/93 [==============================] - 0s 1ms/step - loss: 17.9987 - mae: 18.4920\n",
      "Epoch 7/100\n",
      "93/93 [==============================] - 0s 1ms/step - loss: 17.9964 - mae: 18.4892\n",
      "Epoch 8/100\n",
      "93/93 [==============================] - 0s 2ms/step - loss: 18.0906 - mae: 18.5830\n",
      "Epoch 9/100\n",
      "93/93 [==============================] - 0s 1ms/step - loss: 17.9753 - mae: 18.4672\n",
      "Epoch 10/100\n",
      "93/93 [==============================] - 0s 1ms/step - loss: 17.7366 - mae: 18.2301\n",
      "Epoch 11/100\n",
      "93/93 [==============================] - 0s 1ms/step - loss: 17.6252 - mae: 18.1159\n",
      "Epoch 12/100\n",
      "93/93 [==============================] - 0s 1ms/step - loss: 17.7147 - mae: 18.2064\n",
      "Epoch 13/100\n",
      "93/93 [==============================] - 0s 1ms/step - loss: 17.5977 - mae: 18.0895\n",
      "Epoch 14/100\n",
      "93/93 [==============================] - 0s 1ms/step - loss: 17.5338 - mae: 18.0254\n",
      "Epoch 15/100\n",
      "93/93 [==============================] - 0s 1ms/step - loss: 17.3988 - mae: 17.8892\n",
      "Epoch 16/100\n",
      "93/93 [==============================] - 0s 1ms/step - loss: 17.3669 - mae: 17.8584\n",
      "Epoch 17/100\n",
      "93/93 [==============================] - 0s 1ms/step - loss: 17.4810 - mae: 17.9724\n",
      "Epoch 18/100\n",
      "93/93 [==============================] - 0s 1ms/step - loss: 17.6543 - mae: 18.1460\n",
      "Epoch 19/100\n",
      "93/93 [==============================] - 0s 1ms/step - loss: 17.2834 - mae: 17.7764\n",
      "Epoch 20/100\n",
      "93/93 [==============================] - 0s 2ms/step - loss: 17.3955 - mae: 17.8867\n",
      "Epoch 21/100\n",
      "93/93 [==============================] - 0s 1ms/step - loss: 17.5371 - mae: 18.0272\n",
      "Epoch 22/100\n",
      "93/93 [==============================] - 0s 1ms/step - loss: 17.1910 - mae: 17.6818\n",
      "Epoch 23/100\n",
      "93/93 [==============================] - 0s 1ms/step - loss: 17.3105 - mae: 17.8024\n",
      "Epoch 24/100\n",
      "93/93 [==============================] - 0s 1ms/step - loss: 17.1823 - mae: 17.6749\n",
      "Epoch 25/100\n",
      "93/93 [==============================] - 0s 1ms/step - loss: 17.2282 - mae: 17.7190\n",
      "Epoch 26/100\n",
      "93/93 [==============================] - 0s 1ms/step - loss: 17.3677 - mae: 17.8585\n",
      "Epoch 27/100\n",
      "93/93 [==============================] - 0s 1ms/step - loss: 17.0984 - mae: 17.5893\n",
      "Epoch 28/100\n",
      "93/93 [==============================] - 0s 1ms/step - loss: 17.2465 - mae: 17.7370\n",
      "Epoch 29/100\n",
      "93/93 [==============================] - 0s 1ms/step - loss: 17.2498 - mae: 17.7422\n",
      "Epoch 30/100\n",
      "93/93 [==============================] - 0s 1ms/step - loss: 17.3533 - mae: 17.8453\n",
      "Epoch 31/100\n",
      "93/93 [==============================] - 0s 2ms/step - loss: 17.1231 - mae: 17.6145\n",
      "Epoch 32/100\n",
      "93/93 [==============================] - 0s 2ms/step - loss: 17.2337 - mae: 17.7254\n",
      "Epoch 33/100\n",
      "93/93 [==============================] - 0s 1ms/step - loss: 17.0859 - mae: 17.5769\n",
      "Epoch 34/100\n",
      "93/93 [==============================] - 0s 1ms/step - loss: 17.1967 - mae: 17.6875\n",
      "Epoch 35/100\n",
      "93/93 [==============================] - 0s 1ms/step - loss: 17.4108 - mae: 17.9022\n",
      "Epoch 36/100\n",
      "93/93 [==============================] - 0s 1ms/step - loss: 17.0693 - mae: 17.5603\n",
      "Epoch 37/100\n",
      "93/93 [==============================] - 0s 1ms/step - loss: 17.2439 - mae: 17.7347\n",
      "Epoch 38/100\n",
      "93/93 [==============================] - 0s 1ms/step - loss: 17.1391 - mae: 17.6303\n",
      "Epoch 39/100\n",
      "93/93 [==============================] - 0s 1ms/step - loss: 17.0882 - mae: 17.5798\n",
      "Epoch 40/100\n",
      "93/93 [==============================] - 0s 1ms/step - loss: 17.1706 - mae: 17.6606\n",
      "Epoch 41/100\n",
      "93/93 [==============================] - 0s 1ms/step - loss: 17.1234 - mae: 17.6142\n",
      "Epoch 42/100\n",
      "93/93 [==============================] - 0s 1ms/step - loss: 17.0986 - mae: 17.5907\n",
      "Epoch 43/100\n",
      "93/93 [==============================] - 0s 1ms/step - loss: 16.9776 - mae: 17.4693\n",
      "Epoch 44/100\n",
      "93/93 [==============================] - 0s 1ms/step - loss: 17.0818 - mae: 17.5730\n",
      "Epoch 45/100\n",
      "93/93 [==============================] - 0s 1ms/step - loss: 17.0131 - mae: 17.5044\n",
      "Epoch 46/100\n",
      "93/93 [==============================] - 0s 1ms/step - loss: 17.0346 - mae: 17.5253\n",
      "Epoch 47/100\n",
      "93/93 [==============================] - 0s 1ms/step - loss: 17.0452 - mae: 17.5347\n",
      "Epoch 48/100\n",
      "93/93 [==============================] - 0s 1ms/step - loss: 16.9729 - mae: 17.4644\n",
      "Epoch 49/100\n",
      "93/93 [==============================] - 0s 1ms/step - loss: 17.3840 - mae: 17.8752\n",
      "Epoch 50/100\n",
      "93/93 [==============================] - 0s 1ms/step - loss: 16.9245 - mae: 17.4146\n",
      "Epoch 51/100\n",
      "93/93 [==============================] - 0s 1ms/step - loss: 16.9052 - mae: 17.3978\n",
      "Epoch 52/100\n",
      "93/93 [==============================] - 0s 1ms/step - loss: 16.9446 - mae: 17.4363\n",
      "Epoch 53/100\n",
      "93/93 [==============================] - 0s 2ms/step - loss: 17.0283 - mae: 17.5202\n",
      "Epoch 54/100\n",
      "93/93 [==============================] - 0s 2ms/step - loss: 17.0961 - mae: 17.5870\n",
      "Epoch 55/100\n",
      "93/93 [==============================] - 0s 1ms/step - loss: 16.9340 - mae: 17.4252\n",
      "Epoch 56/100\n",
      "93/93 [==============================] - 0s 1ms/step - loss: 17.1833 - mae: 17.6754\n",
      "Epoch 57/100\n",
      "93/93 [==============================] - 0s 2ms/step - loss: 17.0815 - mae: 17.5724\n",
      "Epoch 58/100\n",
      "93/93 [==============================] - 0s 1ms/step - loss: 16.9874 - mae: 17.4777\n",
      "Epoch 59/100\n",
      "93/93 [==============================] - 0s 1ms/step - loss: 16.9451 - mae: 17.4355\n",
      "Epoch 60/100\n",
      "93/93 [==============================] - 0s 1ms/step - loss: 16.9706 - mae: 17.4621\n",
      "Epoch 61/100\n",
      "93/93 [==============================] - 0s 1ms/step - loss: 17.1037 - mae: 17.5959\n",
      "Epoch 62/100\n",
      "93/93 [==============================] - 0s 1ms/step - loss: 17.0261 - mae: 17.5191\n",
      "Epoch 63/100\n",
      "93/93 [==============================] - 0s 2ms/step - loss: 16.9958 - mae: 17.4861\n",
      "Epoch 64/100\n",
      "93/93 [==============================] - 0s 1ms/step - loss: 16.9434 - mae: 17.4342\n",
      "Epoch 65/100\n",
      "93/93 [==============================] - 0s 1ms/step - loss: 16.8815 - mae: 17.3738\n",
      "Epoch 66/100\n",
      "93/93 [==============================] - 0s 1ms/step - loss: 16.8753 - mae: 17.3665\n",
      "Epoch 67/100\n",
      "93/93 [==============================] - 0s 1ms/step - loss: 16.9868 - mae: 17.4792\n",
      "Epoch 68/100\n",
      "93/93 [==============================] - 0s 2ms/step - loss: 17.0015 - mae: 17.4933\n",
      "Epoch 69/100\n",
      "93/93 [==============================] - 0s 2ms/step - loss: 17.2525 - mae: 17.7450\n",
      "Epoch 70/100\n",
      "93/93 [==============================] - 0s 1ms/step - loss: 17.0335 - mae: 17.5239\n",
      "Epoch 71/100\n",
      "93/93 [==============================] - 0s 1ms/step - loss: 16.9778 - mae: 17.4689\n",
      "Epoch 72/100\n",
      "93/93 [==============================] - 0s 1ms/step - loss: 17.0015 - mae: 17.4938\n",
      "Epoch 73/100\n",
      "93/93 [==============================] - 0s 1ms/step - loss: 16.9884 - mae: 17.4802\n",
      "Epoch 74/100\n",
      "93/93 [==============================] - 0s 1ms/step - loss: 16.9753 - mae: 17.4674\n",
      "Epoch 75/100\n",
      "93/93 [==============================] - 0s 1ms/step - loss: 16.8849 - mae: 17.3756\n",
      "Epoch 76/100\n",
      "93/93 [==============================] - 0s 1ms/step - loss: 16.8150 - mae: 17.3061\n",
      "Epoch 77/100\n",
      "93/93 [==============================] - 0s 1ms/step - loss: 16.8585 - mae: 17.3512\n",
      "Epoch 78/100\n",
      "93/93 [==============================] - 0s 1ms/step - loss: 17.1551 - mae: 17.6470\n",
      "Epoch 79/100\n",
      "93/93 [==============================] - 0s 1ms/step - loss: 17.0190 - mae: 17.5106\n",
      "Epoch 80/100\n",
      "93/93 [==============================] - 0s 1ms/step - loss: 16.8703 - mae: 17.3624\n",
      "Epoch 81/100\n",
      "93/93 [==============================] - 0s 1ms/step - loss: 16.8157 - mae: 17.3063\n",
      "Epoch 82/100\n",
      "93/93 [==============================] - 0s 1ms/step - loss: 16.9416 - mae: 17.4321\n",
      "Epoch 83/100\n",
      "93/93 [==============================] - 0s 1ms/step - loss: 16.9297 - mae: 17.4210\n",
      "Epoch 84/100\n",
      "93/93 [==============================] - 0s 1ms/step - loss: 16.9204 - mae: 17.4109\n",
      "Epoch 85/100\n",
      "93/93 [==============================] - 0s 1ms/step - loss: 16.8932 - mae: 17.3839\n",
      "Epoch 86/100\n",
      "93/93 [==============================] - 0s 1ms/step - loss: 16.9310 - mae: 17.4236\n",
      "Epoch 87/100\n",
      "93/93 [==============================] - 0s 2ms/step - loss: 16.7893 - mae: 17.2801\n",
      "Epoch 88/100\n",
      "93/93 [==============================] - 0s 1ms/step - loss: 17.0111 - mae: 17.5045\n",
      "Epoch 89/100\n",
      "93/93 [==============================] - 0s 2ms/step - loss: 16.9106 - mae: 17.4021\n",
      "Epoch 90/100\n",
      "93/93 [==============================] - 0s 2ms/step - loss: 16.8093 - mae: 17.3014\n",
      "Epoch 91/100\n",
      "93/93 [==============================] - 0s 1ms/step - loss: 16.7584 - mae: 17.2497\n",
      "Epoch 92/100\n",
      "93/93 [==============================] - 0s 1ms/step - loss: 16.9097 - mae: 17.3993\n",
      "Epoch 93/100\n",
      "93/93 [==============================] - 0s 1ms/step - loss: 16.8488 - mae: 17.3396\n",
      "Epoch 94/100\n",
      "93/93 [==============================] - 0s 2ms/step - loss: 16.8396 - mae: 17.3321\n",
      "Epoch 95/100\n",
      "93/93 [==============================] - 0s 1ms/step - loss: 16.9050 - mae: 17.3970\n",
      "Epoch 96/100\n",
      "93/93 [==============================] - 0s 1ms/step - loss: 16.8370 - mae: 17.3288\n",
      "Epoch 97/100\n",
      "93/93 [==============================] - 0s 1ms/step - loss: 16.8964 - mae: 17.3874\n",
      "Epoch 98/100\n",
      "93/93 [==============================] - 0s 1ms/step - loss: 16.8101 - mae: 17.3021\n",
      "Epoch 99/100\n",
      "93/93 [==============================] - 0s 1ms/step - loss: 16.7548 - mae: 17.2471\n",
      "Epoch 100/100\n",
      "93/93 [==============================] - 0s 1ms/step - loss: 16.8426 - mae: 17.3339\n"
     ]
    }
   ],
   "source": [
    "# Set the learning rate\n",
    "learning_rate = 2e-5\n",
    "\n",
    "# Set the optimizer \n",
    "optimizer = tf.keras.optimizers.SGD(learning_rate=learning_rate, momentum=0.9)\n",
    "\n",
    "# Set the training parameters\n",
    "model.compile(loss=tf.keras.losses.Huber(),\n",
    "              optimizer=optimizer,\n",
    "              metrics=[\"mae\"])\n",
    "\n",
    "# Train the model\n",
    "history = model.fit(train_set,epochs=100)"
   ]
  },
  {
   "cell_type": "markdown",
   "metadata": {
    "id": "b1iV2t8ibIka"
   },
   "source": [
    "## Model Prediction\n",
    "\n",
    "Now see if the model generates good results. If you used the default parameters of this notebook, you should see the predictions follow the shape of the ground truth with an MAE of around 15. "
   ]
  },
  {
   "cell_type": "code",
   "execution_count": 15,
   "metadata": {
    "id": "djn06Tri2B6_"
   },
   "outputs": [],
   "source": [
    "def model_forecast(model, series, window_size, batch_size):\n",
    "    \"\"\"Uses an input model to generate predictions on data windows\n",
    "\n",
    "    Args:\n",
    "      model (TF Keras Model) - model that accepts data windows\n",
    "      series (array of float) - contains the values of the time series\n",
    "      window_size (int) - the number of time steps to include in the window\n",
    "      batch_size (int) - the batch size\n",
    "\n",
    "    Returns:\n",
    "      forecast (numpy array) - array containing predictions\n",
    "    \"\"\"\n",
    "\n",
    "    # Generate a TF Dataset from the series values\n",
    "    dataset = tf.data.Dataset.from_tensor_slices(series)\n",
    "\n",
    "    # Window the data but only take those with the specified size\n",
    "    dataset = dataset.window(window_size, shift=1, drop_remainder=True)\n",
    "\n",
    "    # Flatten the windows by putting its elements in a single batch\n",
    "    dataset = dataset.flat_map(lambda w: w.batch(window_size))\n",
    "    \n",
    "    # Create batches of windows\n",
    "    dataset = dataset.batch(batch_size).prefetch(1)\n",
    "    \n",
    "    # Get predictions on the entire dataset\n",
    "    forecast = model.predict(dataset)\n",
    "    \n",
    "    return forecast"
   ]
  },
  {
   "cell_type": "code",
   "execution_count": 16,
   "metadata": {
    "id": "GaC6NNMRp0lb"
   },
   "outputs": [
    {
     "data": {
      "image/png": "[encoded data removed]",
      "text/plain": [
       "<Figure size 720x432 with 1 Axes>"
      ]
     },
     "metadata": {
      "needs_background": "light"
     },
     "output_type": "display_data"
    }
   ],
   "source": [
    "# Reduce the original series\n",
    "forecast_series = series[split_time-window_size:-1]\n",
    "\n",
    "# Use helper function to generate predictions\n",
    "forecast = model_forecast(model, forecast_series, window_size, batch_size)\n",
    "\n",
    "# Drop single dimensional axis\n",
    "results = forecast.squeeze()\n",
    "\n",
    "# Plot the results\n",
    "plot_series(time_valid, (x_valid, results))"
   ]
  },
  {
   "cell_type": "code",
   "execution_count": 17,
   "metadata": {
    "id": "13XrorC5wQoE"
   },
   "outputs": [
    {
     "name": "stdout",
     "output_type": "stream",
     "text": [
      "14.690166\n"
     ]
    }
   ],
   "source": [
    "# Compute the MAE\n",
    "print(tf.keras.metrics.mean_absolute_error(x_valid, results).numpy())"
   ]
  },
  {
   "cell_type": "markdown",
   "metadata": {
    "id": "YqMGN9S5veN2"
   },
   "source": [
    "## Wrap Up\n",
    "\n",
    "In this lab, you built a relatively simple DNN to forecast sunspot numbers for a given month. We encourage you to tweak the parameters or train longer and see the best results you can get. In the next lab, you will build a more complex model and you evaluate if the added complexity translates to better or worse results."
   ]
  }
 ],
 "metadata": {
  "colab": {
   "collapsed_sections": [],
   "name": "C4_W4_Lab_2_Sunspots_DNN.ipynb",
   "private_outputs": true,
   "provenance": [
    {
     "file_id": "https://github.com/https-deeplearning-ai/tensorflow-1-public/blob/adding_C4/C4/W4/ungraded_labs/C4_W4_Lab_3_DNN_only.ipynb",
     "timestamp": 1641292790865
    }
   ]
  },
  "kernelspec": {
   "display_name": "Python 3.7.13 ('tensorflow-1-public': venv)",
   "language": "python",
   "name": "python3"
  },
  "language_info": {
   "codemirror_mode": {
    "name": "ipython",
    "version": 3
   },
   "file_extension": ".py",
   "mimetype": "text/x-python",
   "name": "python",
   "nbconvert_exporter": "python",
   "pygments_lexer": "ipython3",
   "version": "3.7.13"
  },
  "vscode": {
   "interpreter": {
    "hash": "48fec8ba1c20c009a355e2e354d6bac7b3b87e7ce91292f937ebe5a547831829"
   }
  }
 },
 "nbformat": 4,
 "nbformat_minor": 1
}
