{
 "cells": [
  {
   "cell_type": "markdown",
   "metadata": {},
   "source": [
    "<a href=\"https://colab.research.google.com/github/https-deeplearning-ai/tensorflow-1-public/blob/master/C3/W4/ungraded_labs/C3_W4_Lab_2_irish_lyrics.ipynb\" target=\"_parent\"><img src=\"https://colab.research.google.com/assets/colab-badge.svg\" alt=\"Open In Colab\"/></a>"
   ]
  },
  {
   "cell_type": "markdown",
   "metadata": {
    "id": "SqIxQYm8h06Z"
   },
   "source": [
    "# Ungraded Lab: Generating Text from Irish Lyrics\n",
    "\n",
    "In the previous lab, you trained a model on just a single song. You might have found that the output text can quickly become gibberish or repetitive. Even if you tweak the hyperparameters, the model will still be limited by its vocabulary of only 263 words. The model will be more flexible if you train it on a much larger corpus and that's what you'll be doing in this lab. You will use lyrics from more Irish songs then see how the generated text looks like. You will also see how this impacts the process from data preparation to model training. Let's get started!"
   ]
  },
  {
   "cell_type": "markdown",
   "metadata": {
    "id": "wb1mfOvch4Sv"
   },
   "source": [
    "## Imports"
   ]
  },
  {
   "cell_type": "code",
   "execution_count": 1,
   "metadata": {
    "id": "BOwsuGQQY9OL"
   },
   "outputs": [],
   "source": [
    "import tensorflow as tf\n",
    "import numpy as np \n",
    "\n",
    "from tensorflow.keras.preprocessing.sequence import pad_sequences\n",
    "from tensorflow.keras.layers import Embedding, LSTM, Dense, Bidirectional\n",
    "from tensorflow.keras.preprocessing.text import Tokenizer\n",
    "from tensorflow.keras.models import Sequential\n",
    "from tensorflow.keras.optimizers import Adam"
   ]
  },
  {
   "cell_type": "markdown",
   "metadata": {
    "id": "jmBFI788pOXx"
   },
   "source": [
    "## Building the Word Vocabulary\n",
    "\n",
    "You will first download the lyrics dataset. These will be from a compilation of traditional Irish songs and you can see them [here](https://github.com/https-deeplearning-ai/tensorflow-1-public/blob/main/C3/W4/misc/Laurences_generated_poetry.txt). "
   ]
  },
  {
   "cell_type": "code",
   "execution_count": 2,
   "metadata": {
    "id": "pylt5qZYsWPh"
   },
   "outputs": [
    {
     "name": "stdout",
     "output_type": "stream",
     "text": [
      "--2022-08-31 20:09:35--  https://storage.googleapis.com/tensorflow-1-public/course3/irish-lyrics-eof.txt\n",
      "Resolving storage.googleapis.com (storage.googleapis.com)... 142.250.72.80, 142.250.72.48, 142.250.69.240, ...\n",
      "Connecting to storage.googleapis.com (storage.googleapis.com)|142.250.72.80|:443... connected.\n",
      "HTTP request sent, awaiting response... 200 OK\n",
      "Length: 68970 (67K) [text/plain]\n",
      "Saving to: ‘irish-lyrics-eof.txt’\n",
      "\n",
      "irish-lyrics-eof.tx 100%[===================>]  67.35K  --.-KB/s    in 0.01s   \n",
      "\n",
      "2022-08-31 20:09:36 (4.48 MB/s) - ‘irish-lyrics-eof.txt’ saved [68970/68970]\n",
      "\n"
     ]
    }
   ],
   "source": [
    "# Download the dataset\n",
    "!wget https://storage.googleapis.com/tensorflow-1-public/course3/irish-lyrics-eof.txt"
   ]
  },
  {
   "cell_type": "markdown",
   "metadata": {
    "id": "-v6JYQGNPXCW"
   },
   "source": [
    "Next, you will lowercase and split the plain text into a list of sentences:"
   ]
  },
  {
   "cell_type": "code",
   "execution_count": null,
   "metadata": {
    "id": "LKOO7DFCPX3L"
   },
   "outputs": [],
   "source": [
    "# Load the dataset\n",
    "data = open('./irish-lyrics-eof.txt').read()\n",
    "\n",
    "# Lowercase and split the text\n",
    "corpus = data.lower().split(\"\\n\")\n",
    "\n",
    "# Preview the result\n",
    "print(corpus)"
   ]
  },
  {
   "cell_type": "markdown",
   "metadata": {
    "id": "EkP2CP0qP8RD"
   },
   "source": [
    "From here, you can initialize the `Tokenizer` class and generate the word index dictionary:"
   ]
  },
  {
   "cell_type": "code",
   "execution_count": null,
   "metadata": {
    "id": "PRnDnCW-Z7qv"
   },
   "outputs": [],
   "source": [
    "# Initialize the Tokenizer class\n",
    "tokenizer = Tokenizer()\n",
    "\n",
    "# Generate the word index dictionary\n",
    "tokenizer.fit_on_texts(corpus)\n",
    "\n",
    "# Define the total words. You add 1 for the index `0` which is just the padding token.\n",
    "total_words = len(tokenizer.word_index) + 1\n",
    "\n",
    "print(f'word index dictionary: {tokenizer.word_index}')\n",
    "print(f'total words: {total_words}')"
   ]
  },
  {
   "cell_type": "markdown",
   "metadata": {
    "id": "JK29FzZ7QW-4"
   },
   "source": [
    "## Preprocessing the Dataset\n",
    "\n",
    "Next, you will generate the inputs and labels for your model. The process will be identical to the previous lab. The `xs` or inputs to the model will be padded sequences, while the `ys` or labels are one-hot encoded arrays."
   ]
  },
  {
   "cell_type": "code",
   "execution_count": 5,
   "metadata": {
    "id": "soPGVheskaQP"
   },
   "outputs": [],
   "source": [
    "# Initialize the sequences list\n",
    "input_sequences = []\n",
    "\n",
    "# Loop over every line\n",
    "for line in corpus:\n",
    "\n",
    "\t# Tokenize the current line\n",
    "\ttoken_list = tokenizer.texts_to_sequences([line])[0]\n",
    "\n",
    "\t# Loop over the line several times to generate the subphrases\n",
    "\tfor i in range(1, len(token_list)):\n",
    "\t\t\n",
    "\t\t# Generate the subphrase\n",
    "\t\tn_gram_sequence = token_list[:i+1]\n",
    "\n",
    "\t\t# Append the subphrase to the sequences list\n",
    "\t\tinput_sequences.append(n_gram_sequence)\n",
    "\n",
    "# Get the length of the longest line\n",
    "max_sequence_len = max([len(x) for x in input_sequences])\n",
    "\n",
    "# Pad all sequences\n",
    "input_sequences = np.array(pad_sequences(input_sequences, maxlen=max_sequence_len, padding='pre'))\n",
    "\n",
    "# Create inputs and label by splitting the last token in the subphrases\n",
    "xs, labels = input_sequences[:,:-1],input_sequences[:,-1]\n",
    "\n",
    "# Convert the label into one-hot arrays\n",
    "ys = tf.keras.utils.to_categorical(labels, num_classes=total_words)"
   ]
  },
  {
   "cell_type": "markdown",
   "metadata": {
    "id": "TmWHCO0dQGlZ"
   },
   "source": [
    "You can then print some of the examples as a sanity check."
   ]
  },
  {
   "cell_type": "code",
   "execution_count": 6,
   "metadata": {
    "id": "pJtwVB2NbOAP"
   },
   "outputs": [
    {
     "name": "stdout",
     "output_type": "stream",
     "text": [
      "sample sentence: ['come', 'all', 'ye', 'maidens', 'young', 'and', 'fair']\n",
      "[51, 12, 96, 1217, 48, 2, 69]\n"
     ]
    }
   ],
   "source": [
    "# Get sample sentence\n",
    "sentence = corpus[0].split()\n",
    "print(f'sample sentence: {sentence}')\n",
    "\n",
    "# Initialize token list\n",
    "token_list = []\n",
    "\n",
    "# Look up the indices of each word and append to the list\n",
    "for word in sentence: \n",
    "  token_list.append(tokenizer.word_index[word])\n",
    "\n",
    "# Print the token list\n",
    "print(token_list)"
   ]
  },
  {
   "cell_type": "code",
   "execution_count": 7,
   "metadata": {
    "id": "lMr6kKfzROlW"
   },
   "outputs": [
    {
     "name": "stdout",
     "output_type": "stream",
     "text": [
      "token list: [   0    0    0    0    0    0    0    0    0   51   12   96 1217   48\n",
      "    2]\n",
      "decoded to text: ['come all ye maidens young and']\n",
      "one-hot label: [0. 0. 0. ... 0. 0. 0.]\n",
      "index of label: 69\n"
     ]
    }
   ],
   "source": [
    "# Pick element\n",
    "elem_number = 5\n",
    "\n",
    "# Print token list and phrase\n",
    "print(f'token list: {xs[elem_number]}')\n",
    "print(f'decoded to text: {tokenizer.sequences_to_texts([xs[elem_number]])}')\n",
    "\n",
    "# Print label\n",
    "print(f'one-hot label: {ys[elem_number]}')\n",
    "print(f'index of label: {np.argmax(ys[elem_number])}')"
   ]
  },
  {
   "cell_type": "code",
   "execution_count": 8,
   "metadata": {
    "id": "49Cv68JOakwv"
   },
   "outputs": [
    {
     "name": "stdout",
     "output_type": "stream",
     "text": [
      "token list: [   0    0    0    0    0    0    0    0    0    0   51   12   96 1217\n",
      "   48]\n",
      "decoded to text: ['come all ye maidens young']\n",
      "one-hot label: [0. 0. 1. ... 0. 0. 0.]\n",
      "index of label: 2\n"
     ]
    }
   ],
   "source": [
    "# Pick element\n",
    "elem_number = 4\n",
    "\n",
    "# Print token list and phrase\n",
    "print(f'token list: {xs[elem_number]}')\n",
    "print(f'decoded to text: {tokenizer.sequences_to_texts([xs[elem_number]])}')\n",
    "\n",
    "# Print label\n",
    "print(f'one-hot label: {ys[elem_number]}')\n",
    "print(f'index of label: {np.argmax(ys[elem_number])}')"
   ]
  },
  {
   "cell_type": "markdown",
   "metadata": {
    "id": "VKWWUZm5VPG9"
   },
   "source": [
    "## Build and compile the Model\n",
    "\n",
    "Next, you will build and compile the model. We placed some of the hyperparameters at the top of the code cell so you can easily tweak it later if you want."
   ]
  },
  {
   "cell_type": "code",
   "execution_count": 9,
   "metadata": {
    "id": "w9vH8Y59ajYL"
   },
   "outputs": [
    {
     "name": "stderr",
     "output_type": "stream",
     "text": [
      "2022-08-31 20:11:31.612525: I tensorflow/stream_executor/cuda/cuda_gpu_executor.cc:939] successful NUMA node read from SysFS had negative value (-1), but there must be at least one NUMA node, so returning NUMA node zero\n",
      "2022-08-31 20:11:31.639206: I tensorflow/stream_executor/cuda/cuda_gpu_executor.cc:939] successful NUMA node read from SysFS had negative value (-1), but there must be at least one NUMA node, so returning NUMA node zero\n",
      "2022-08-31 20:11:31.639371: I tensorflow/stream_executor/cuda/cuda_gpu_executor.cc:939] successful NUMA node read from SysFS had negative value (-1), but there must be at least one NUMA node, so returning NUMA node zero\n",
      "2022-08-31 20:11:31.640239: I tensorflow/core/platform/cpu_feature_guard.cc:151] This TensorFlow binary is optimized with oneAPI Deep Neural Network Library (oneDNN) to use the following CPU instructions in performance-critical operations:  AVX2 FMA\n",
      "To enable them in other operations, rebuild TensorFlow with the appropriate compiler flags.\n",
      "2022-08-31 20:11:31.640878: I tensorflow/stream_executor/cuda/cuda_gpu_executor.cc:939] successful NUMA node read from SysFS had negative value (-1), but there must be at least one NUMA node, so returning NUMA node zero\n",
      "2022-08-31 20:11:31.641007: I tensorflow/stream_executor/cuda/cuda_gpu_executor.cc:939] successful NUMA node read from SysFS had negative value (-1), but there must be at least one NUMA node, so returning NUMA node zero\n",
      "2022-08-31 20:11:31.641124: I tensorflow/stream_executor/cuda/cuda_gpu_executor.cc:939] successful NUMA node read from SysFS had negative value (-1), but there must be at least one NUMA node, so returning NUMA node zero\n",
      "2022-08-31 20:11:31.950086: I tensorflow/stream_executor/cuda/cuda_gpu_executor.cc:939] successful NUMA node read from SysFS had negative value (-1), but there must be at least one NUMA node, so returning NUMA node zero\n",
      "2022-08-31 20:11:31.950248: I tensorflow/stream_executor/cuda/cuda_gpu_executor.cc:939] successful NUMA node read from SysFS had negative value (-1), but there must be at least one NUMA node, so returning NUMA node zero\n",
      "2022-08-31 20:11:31.950412: I tensorflow/stream_executor/cuda/cuda_gpu_executor.cc:939] successful NUMA node read from SysFS had negative value (-1), but there must be at least one NUMA node, so returning NUMA node zero\n",
      "2022-08-31 20:11:31.950520: I tensorflow/core/common_runtime/gpu/gpu_device.cc:1525] Created device /job:localhost/replica:0/task:0/device:GPU:0 with 6759 MB memory:  -> device: 0, name: NVIDIA GeForce GTX 1070, pci bus id: 0000:2b:00.0, compute capability: 6.1\n"
     ]
    },
    {
     "name": "stdout",
     "output_type": "stream",
     "text": [
      "Model: \"sequential\"\n",
      "_________________________________________________________________\n",
      " Layer (type)                Output Shape              Param #   \n",
      "=================================================================\n",
      " embedding (Embedding)       (None, 15, 100)           269000    \n",
      "                                                                 \n",
      " bidirectional (Bidirectiona  (None, 300)              301200    \n",
      " l)                                                              \n",
      "                                                                 \n",
      " dense (Dense)               (None, 2690)              809690    \n",
      "                                                                 \n",
      "=================================================================\n",
      "Total params: 1,379,890\n",
      "Trainable params: 1,379,890\n",
      "Non-trainable params: 0\n",
      "_________________________________________________________________\n"
     ]
    }
   ],
   "source": [
    "# Hyperparameters\n",
    "embedding_dim = 100\n",
    "lstm_units = 150\n",
    "learning_rate = 0.01\n",
    "\n",
    "# Build the model\n",
    "model = Sequential([\n",
    "          Embedding(total_words, embedding_dim, input_length=max_sequence_len-1),\n",
    "          Bidirectional(LSTM(lstm_units)),\n",
    "          Dense(total_words, activation='softmax')\n",
    "])\n",
    "\n",
    "# Use categorical crossentropy because this is a multi-class problem\n",
    "model.compile(\n",
    "    loss='categorical_crossentropy', \n",
    "    optimizer=tf.keras.optimizers.Adam(learning_rate=learning_rate), \n",
    "    metrics=['accuracy']\n",
    "    )\n",
    "\n",
    "# Print the model summary\n",
    "model.summary()"
   ]
  },
  {
   "cell_type": "markdown",
   "metadata": {
    "id": "OpI0d9cfR43c"
   },
   "source": [
    "## Train the model\n",
    "\n",
    "From the model summary above, you'll notice that the number of trainable params is much larger than the one in the previous lab. Consequently, that usually means a slower training time. It will take roughly 7 seconds per epoch with the GPU enabled in Colab and you'll reach around 76% accuracy after 100 epochs."
   ]
  },
  {
   "cell_type": "code",
   "execution_count": 10,
   "metadata": {
    "id": "Nc4zC7C4jJpN"
   },
   "outputs": [
    {
     "name": "stdout",
     "output_type": "stream",
     "text": [
      "Epoch 1/100\n",
      " 11/377 [..............................] - ETA: 1s - loss: 7.3348 - accuracy: 0.0284       "
     ]
    },
    {
     "name": "stderr",
     "output_type": "stream",
     "text": [
      "2022-08-31 20:11:47.414690: I tensorflow/stream_executor/cuda/cuda_dnn.cc:366] Loaded cuDNN version 8500\n"
     ]
    },
    {
     "name": "stdout",
     "output_type": "stream",
     "text": [
      "377/377 [==============================] - 4s 5ms/step - loss: 6.6340 - accuracy: 0.0743\n",
      "Epoch 2/100\n",
      "377/377 [==============================] - 2s 5ms/step - loss: 5.7679 - accuracy: 0.1147\n",
      "Epoch 3/100\n",
      "377/377 [==============================] - 2s 5ms/step - loss: 4.9025 - accuracy: 0.1663\n",
      "Epoch 4/100\n",
      "377/377 [==============================] - 2s 5ms/step - loss: 3.9352 - accuracy: 0.2385\n",
      "Epoch 5/100\n",
      "377/377 [==============================] - 2s 5ms/step - loss: 3.0927 - accuracy: 0.3444\n",
      "Epoch 6/100\n",
      "377/377 [==============================] - 2s 5ms/step - loss: 2.4268 - accuracy: 0.4523\n",
      "Epoch 7/100\n",
      "377/377 [==============================] - 2s 5ms/step - loss: 1.8872 - accuracy: 0.5626\n",
      "Epoch 8/100\n",
      "377/377 [==============================] - 2s 5ms/step - loss: 1.5362 - accuracy: 0.6341\n",
      "Epoch 9/100\n",
      "377/377 [==============================] - 2s 5ms/step - loss: 1.2993 - accuracy: 0.6842\n",
      "Epoch 10/100\n",
      "377/377 [==============================] - 2s 5ms/step - loss: 1.1671 - accuracy: 0.7170\n",
      "Epoch 11/100\n",
      "377/377 [==============================] - 2s 5ms/step - loss: 1.0809 - accuracy: 0.7377\n",
      "Epoch 12/100\n",
      "377/377 [==============================] - 2s 6ms/step - loss: 1.0266 - accuracy: 0.7504\n",
      "Epoch 13/100\n",
      "377/377 [==============================] - 2s 5ms/step - loss: 1.0998 - accuracy: 0.7232\n",
      "Epoch 14/100\n",
      "377/377 [==============================] - 2s 6ms/step - loss: 1.1998 - accuracy: 0.6958\n",
      "Epoch 15/100\n",
      "377/377 [==============================] - 2s 5ms/step - loss: 1.1827 - accuracy: 0.6970\n",
      "Epoch 16/100\n",
      "377/377 [==============================] - 2s 5ms/step - loss: 1.0684 - accuracy: 0.7264\n",
      "Epoch 17/100\n",
      "377/377 [==============================] - 2s 5ms/step - loss: 0.9981 - accuracy: 0.7466\n",
      "Epoch 18/100\n",
      "377/377 [==============================] - 2s 5ms/step - loss: 0.9185 - accuracy: 0.7656\n",
      "Epoch 19/100\n",
      "377/377 [==============================] - 2s 5ms/step - loss: 0.8747 - accuracy: 0.7775\n",
      "Epoch 20/100\n",
      "377/377 [==============================] - 2s 5ms/step - loss: 0.8966 - accuracy: 0.7716\n",
      "Epoch 21/100\n",
      "377/377 [==============================] - 2s 5ms/step - loss: 0.9745 - accuracy: 0.7470\n",
      "Epoch 22/100\n",
      "377/377 [==============================] - 2s 5ms/step - loss: 1.0655 - accuracy: 0.7255\n",
      "Epoch 23/100\n",
      "377/377 [==============================] - 2s 5ms/step - loss: 1.0449 - accuracy: 0.7321\n",
      "Epoch 24/100\n",
      "377/377 [==============================] - 2s 5ms/step - loss: 0.9879 - accuracy: 0.7417\n",
      "Epoch 25/100\n",
      "377/377 [==============================] - 2s 5ms/step - loss: 0.9552 - accuracy: 0.7512\n",
      "Epoch 26/100\n",
      "377/377 [==============================] - 2s 5ms/step - loss: 0.8915 - accuracy: 0.7671\n",
      "Epoch 27/100\n",
      "377/377 [==============================] - 2s 5ms/step - loss: 0.8764 - accuracy: 0.7733\n",
      "Epoch 28/100\n",
      "377/377 [==============================] - 2s 5ms/step - loss: 0.8858 - accuracy: 0.7682\n",
      "Epoch 29/100\n",
      "377/377 [==============================] - 2s 5ms/step - loss: 0.9781 - accuracy: 0.7415\n",
      "Epoch 30/100\n",
      "377/377 [==============================] - 2s 5ms/step - loss: 1.0235 - accuracy: 0.7323\n",
      "Epoch 31/100\n",
      "377/377 [==============================] - 2s 5ms/step - loss: 0.9609 - accuracy: 0.7474\n",
      "Epoch 32/100\n",
      "377/377 [==============================] - 2s 5ms/step - loss: 0.9316 - accuracy: 0.7544\n",
      "Epoch 33/100\n",
      "377/377 [==============================] - 2s 5ms/step - loss: 0.8388 - accuracy: 0.7822\n",
      "Epoch 34/100\n",
      "377/377 [==============================] - 2s 5ms/step - loss: 0.8087 - accuracy: 0.7883\n",
      "Epoch 35/100\n",
      "377/377 [==============================] - 2s 5ms/step - loss: 0.8522 - accuracy: 0.7711\n",
      "Epoch 36/100\n",
      "377/377 [==============================] - 2s 5ms/step - loss: 0.9066 - accuracy: 0.7615\n",
      "Epoch 37/100\n",
      "377/377 [==============================] - 2s 5ms/step - loss: 0.9389 - accuracy: 0.7509\n",
      "Epoch 38/100\n",
      "377/377 [==============================] - 2s 5ms/step - loss: 0.9741 - accuracy: 0.7440\n",
      "Epoch 39/100\n",
      "377/377 [==============================] - 2s 5ms/step - loss: 1.0905 - accuracy: 0.7235\n",
      "Epoch 40/100\n",
      "377/377 [==============================] - 2s 5ms/step - loss: 1.1126 - accuracy: 0.7131\n",
      "Epoch 41/100\n",
      "377/377 [==============================] - 2s 5ms/step - loss: 0.9903 - accuracy: 0.7368\n",
      "Epoch 42/100\n",
      "377/377 [==============================] - 2s 5ms/step - loss: 0.8886 - accuracy: 0.7682\n",
      "Epoch 43/100\n",
      "377/377 [==============================] - 2s 5ms/step - loss: 0.8775 - accuracy: 0.7682\n",
      "Epoch 44/100\n",
      "377/377 [==============================] - 2s 5ms/step - loss: 0.8211 - accuracy: 0.7839\n",
      "Epoch 45/100\n",
      "377/377 [==============================] - 2s 5ms/step - loss: 0.7969 - accuracy: 0.7895\n",
      "Epoch 46/100\n",
      "377/377 [==============================] - 2s 5ms/step - loss: 0.8386 - accuracy: 0.7794\n",
      "Epoch 47/100\n",
      "377/377 [==============================] - 2s 5ms/step - loss: 0.8896 - accuracy: 0.7606\n",
      "Epoch 48/100\n",
      "377/377 [==============================] - 2s 5ms/step - loss: 0.9440 - accuracy: 0.7500\n",
      "Epoch 49/100\n",
      "377/377 [==============================] - 2s 5ms/step - loss: 0.9556 - accuracy: 0.7450\n",
      "Epoch 50/100\n",
      "377/377 [==============================] - 2s 5ms/step - loss: 0.9684 - accuracy: 0.7440\n",
      "Epoch 51/100\n",
      "377/377 [==============================] - 2s 5ms/step - loss: 0.9249 - accuracy: 0.7554\n",
      "Epoch 52/100\n",
      "377/377 [==============================] - 2s 5ms/step - loss: 0.8630 - accuracy: 0.7719\n",
      "Epoch 53/100\n",
      "377/377 [==============================] - 2s 5ms/step - loss: 0.8275 - accuracy: 0.7775\n",
      "Epoch 54/100\n",
      "377/377 [==============================] - 2s 5ms/step - loss: 0.8130 - accuracy: 0.7829\n",
      "Epoch 55/100\n",
      "377/377 [==============================] - 2s 5ms/step - loss: 0.8174 - accuracy: 0.7804\n",
      "Epoch 56/100\n",
      "377/377 [==============================] - 2s 5ms/step - loss: 0.8635 - accuracy: 0.7712\n",
      "Epoch 57/100\n",
      "377/377 [==============================] - 2s 5ms/step - loss: 0.9167 - accuracy: 0.7545\n",
      "Epoch 58/100\n",
      "377/377 [==============================] - 2s 5ms/step - loss: 0.9433 - accuracy: 0.7473\n",
      "Epoch 59/100\n",
      "377/377 [==============================] - 2s 5ms/step - loss: 0.9355 - accuracy: 0.7497\n",
      "Epoch 60/100\n",
      "377/377 [==============================] - 2s 5ms/step - loss: 0.9073 - accuracy: 0.7572\n",
      "Epoch 61/100\n",
      "377/377 [==============================] - 2s 5ms/step - loss: 0.8545 - accuracy: 0.7691\n",
      "Epoch 62/100\n",
      "377/377 [==============================] - 2s 5ms/step - loss: 0.8403 - accuracy: 0.7769\n",
      "Epoch 63/100\n",
      "377/377 [==============================] - 2s 5ms/step - loss: 0.8421 - accuracy: 0.7753\n",
      "Epoch 64/100\n",
      "377/377 [==============================] - 2s 5ms/step - loss: 0.8218 - accuracy: 0.7814\n",
      "Epoch 65/100\n",
      "377/377 [==============================] - 2s 5ms/step - loss: 0.8061 - accuracy: 0.7836\n",
      "Epoch 66/100\n",
      "377/377 [==============================] - 2s 5ms/step - loss: 0.8519 - accuracy: 0.7731\n",
      "Epoch 67/100\n",
      "377/377 [==============================] - 2s 5ms/step - loss: 0.8502 - accuracy: 0.7736\n",
      "Epoch 68/100\n",
      "377/377 [==============================] - 2s 5ms/step - loss: 0.8515 - accuracy: 0.7745\n",
      "Epoch 69/100\n",
      "377/377 [==============================] - 2s 5ms/step - loss: 0.8951 - accuracy: 0.7657\n",
      "Epoch 70/100\n",
      "377/377 [==============================] - 2s 5ms/step - loss: 0.9422 - accuracy: 0.7480\n",
      "Epoch 71/100\n",
      "377/377 [==============================] - 2s 5ms/step - loss: 0.9192 - accuracy: 0.7535\n",
      "Epoch 72/100\n",
      "377/377 [==============================] - 2s 5ms/step - loss: 0.8726 - accuracy: 0.7673\n",
      "Epoch 73/100\n",
      "377/377 [==============================] - 2s 5ms/step - loss: 0.8454 - accuracy: 0.7725\n",
      "Epoch 74/100\n",
      "377/377 [==============================] - 2s 5ms/step - loss: 0.7827 - accuracy: 0.7889\n",
      "Epoch 75/100\n",
      "377/377 [==============================] - 2s 5ms/step - loss: 0.7952 - accuracy: 0.7876\n",
      "Epoch 76/100\n",
      "377/377 [==============================] - 2s 5ms/step - loss: 0.8125 - accuracy: 0.7842\n",
      "Epoch 77/100\n",
      "377/377 [==============================] - 2s 5ms/step - loss: 0.8173 - accuracy: 0.7799\n",
      "Epoch 78/100\n",
      "377/377 [==============================] - 2s 5ms/step - loss: 0.8089 - accuracy: 0.7779\n",
      "Epoch 79/100\n",
      "377/377 [==============================] - 2s 5ms/step - loss: 0.8270 - accuracy: 0.7759\n",
      "Epoch 80/100\n",
      "377/377 [==============================] - 2s 5ms/step - loss: 0.8894 - accuracy: 0.7632\n",
      "Epoch 81/100\n",
      "377/377 [==============================] - 2s 5ms/step - loss: 0.9938 - accuracy: 0.7419\n",
      "Epoch 82/100\n",
      "377/377 [==============================] - 2s 5ms/step - loss: 1.0316 - accuracy: 0.7348\n",
      "Epoch 83/100\n",
      "377/377 [==============================] - 2s 5ms/step - loss: 0.9763 - accuracy: 0.7396\n",
      "Epoch 84/100\n",
      "377/377 [==============================] - 2s 5ms/step - loss: 0.8765 - accuracy: 0.7634\n",
      "Epoch 85/100\n",
      "377/377 [==============================] - 2s 5ms/step - loss: 0.8114 - accuracy: 0.7841\n",
      "Epoch 86/100\n",
      "377/377 [==============================] - 2s 5ms/step - loss: 0.7462 - accuracy: 0.8000\n",
      "Epoch 87/100\n",
      "377/377 [==============================] - 2s 5ms/step - loss: 0.7126 - accuracy: 0.8078\n",
      "Epoch 88/100\n",
      "377/377 [==============================] - 2s 5ms/step - loss: 0.7748 - accuracy: 0.7928\n",
      "Epoch 89/100\n",
      "377/377 [==============================] - 2s 5ms/step - loss: 0.8099 - accuracy: 0.7868\n",
      "Epoch 90/100\n",
      "377/377 [==============================] - 2s 5ms/step - loss: 0.9559 - accuracy: 0.7509\n",
      "Epoch 91/100\n",
      "377/377 [==============================] - 2s 5ms/step - loss: 1.0005 - accuracy: 0.7370\n",
      "Epoch 92/100\n",
      "377/377 [==============================] - 2s 5ms/step - loss: 0.9274 - accuracy: 0.7515\n",
      "Epoch 93/100\n",
      "377/377 [==============================] - 2s 5ms/step - loss: 1.0853 - accuracy: 0.7255\n",
      "Epoch 94/100\n",
      "377/377 [==============================] - 2s 5ms/step - loss: 0.9388 - accuracy: 0.7559\n",
      "Epoch 95/100\n",
      "377/377 [==============================] - 2s 5ms/step - loss: 0.9449 - accuracy: 0.7604\n",
      "Epoch 96/100\n",
      "377/377 [==============================] - 2s 5ms/step - loss: 0.9216 - accuracy: 0.7622\n",
      "Epoch 97/100\n",
      "377/377 [==============================] - 2s 5ms/step - loss: 0.8512 - accuracy: 0.7770\n",
      "Epoch 98/100\n",
      "377/377 [==============================] - 2s 5ms/step - loss: 0.8181 - accuracy: 0.7834\n",
      "Epoch 99/100\n",
      "377/377 [==============================] - 2s 5ms/step - loss: 0.8142 - accuracy: 0.7848\n",
      "Epoch 100/100\n",
      "377/377 [==============================] - 2s 5ms/step - loss: 0.7915 - accuracy: 0.7917\n"
     ]
    }
   ],
   "source": [
    "epochs = 100\n",
    "\n",
    "# Train the model\n",
    "history = model.fit(xs, ys, epochs=epochs)"
   ]
  },
  {
   "cell_type": "markdown",
   "metadata": {
    "id": "WgAzLnLATFts"
   },
   "source": [
    "You can visualize the accuracy below to see how it fluctuates as the training progresses."
   ]
  },
  {
   "cell_type": "code",
   "execution_count": 11,
   "metadata": {
    "id": "3YXGelKThoTT"
   },
   "outputs": [
    {
     "data": {
      "image/png": "[encoded data removed]",
      "text/plain": [
       "<Figure size 432x288 with 1 Axes>"
      ]
     },
     "metadata": {
      "needs_background": "light"
     },
     "output_type": "display_data"
    }
   ],
   "source": [
    "import matplotlib.pyplot as plt\n",
    "\n",
    "# Plot utility\n",
    "def plot_graphs(history, string):\n",
    "  plt.plot(history.history[string])\n",
    "  plt.xlabel(\"Epochs\")\n",
    "  plt.ylabel(string)\n",
    "  plt.show()\n",
    "\n",
    "# Visualize the accuracy\n",
    "plot_graphs(history, 'accuracy')"
   ]
  },
  {
   "cell_type": "markdown",
   "metadata": {
    "id": "9gxKIcvGTUnw"
   },
   "source": [
    "## Generating Text\n",
    "\n",
    "Now you can let the model make its own songs or poetry! Because it is trained on a much larger corpus, the results below should contain less repetitions as before. The code below picks the next word based on the highest probability output."
   ]
  },
  {
   "cell_type": "code",
   "execution_count": 12,
   "metadata": {
    "id": "6Vc6PHgxa6Hm"
   },
   "outputs": [
    {
     "name": "stdout",
     "output_type": "stream",
     "text": [
      "help me obi-wan kinobi youre my only hope and green were brave are they your friend gone gone gone gone gone your eyes hush love love i love gone love be eyes and town i town love gone away from town gone love eyes tree my love gone she right till my love love writin love gone gone gone i love eyes i gone away gone white eyes any lily man i could i love love gone among mad at i love gone she right gone gone among i right my keeping get love gone gone then i love best with sinking eyes gone alas gone or left\n"
     ]
    }
   ],
   "source": [
    "# Define seed text\n",
    "seed_text = \"help me obi-wan kinobi youre my only hope\"\n",
    "\n",
    "# Define total words to predict\n",
    "next_words = 100\n",
    "\n",
    "# Loop until desired length is reached\n",
    "for _ in range(next_words):\n",
    "\n",
    "\t# Convert the seed text to a token sequence\n",
    "\ttoken_list = tokenizer.texts_to_sequences([seed_text])[0]\n",
    "\n",
    "\t# Pad the sequence\n",
    "\ttoken_list = pad_sequences([token_list], maxlen=max_sequence_len-1, padding='pre')\n",
    "\t\n",
    "\t# Feed to the model and get the probabilities for each index\n",
    "\tprobabilities = model.predict(token_list)\n",
    "\n",
    "\t# Get the index with the highest probability\n",
    "\tpredicted = np.argmax(probabilities, axis=-1)[0]\n",
    "\n",
    "\t# Ignore if index is 0 because that is just the padding.\n",
    "\tif predicted != 0:\n",
    "\t\t\n",
    "\t\t# Look up the word associated with the index. \n",
    "\t\toutput_word = tokenizer.index_word[predicted]\n",
    "\n",
    "\t\t# Combine with the seed text\n",
    "\t\tseed_text += \" \" + output_word\n",
    "\n",
    "# Print the result\t\n",
    "print(seed_text)"
   ]
  },
  {
   "cell_type": "markdown",
   "metadata": {
    "id": "wHtrtAFAT6tn"
   },
   "source": [
    "Here again is the code that gets the top 3 predictions and picks one at random."
   ]
  },
  {
   "cell_type": "code",
   "execution_count": 13,
   "metadata": {
    "id": "yJfzKm-8mVKD"
   },
   "outputs": [
    {
     "name": "stdout",
     "output_type": "stream",
     "text": [
      "help me obi-wan kinobi youre my only hope to ireland faded boy are so strength i would goes at gone i love beggarman thy eyes your eyes gone i love gone love someone i safely gone and year love love grew gone i roved then then eyes bridle town gone forbid went your goes high high i boy in this proud eyes glisten back to play the fine groves love love hands love gone love love gone love til da dying white i now seems eyes dirty took from town and odonnell eyes and bee jollity town tree hat right steal love your unseen clouded ever i sinking\n"
     ]
    }
   ],
   "source": [
    "# Define seed text\n",
    "seed_text = \"help me obi-wan kinobi youre my only hope\"\n",
    "\n",
    "# Define total words to predict\n",
    "next_words = 100\n",
    "\n",
    "# Loop until desired length is reached\n",
    "for _ in range(next_words):\n",
    "\n",
    "\t# Convert the seed text to a token sequence\n",
    "  token_list = tokenizer.texts_to_sequences([seed_text])[0]\n",
    "\n",
    "\t# Pad the sequence\n",
    "  token_list = pad_sequences([token_list], maxlen=max_sequence_len-1, padding='pre')\n",
    "\t\n",
    "\t# Feed to the model and get the probabilities for each index\n",
    "  probabilities = model.predict(token_list)\n",
    "\n",
    "  # Pick a random number from [1,2,3]\n",
    "  choice = np.random.choice([1,2,3])\n",
    "\t\n",
    "  # Sort the probabilities in ascending order \n",
    "  # and get the random choice from the end of the array\n",
    "  predicted = np.argsort(probabilities)[0][-choice]\n",
    "\n",
    "\t# Ignore if index is 0 because that is just the padding.\n",
    "  if predicted != 0:\n",
    "\t\t\n",
    "\t\t# Look up the word associated with the index. \n",
    "\t  output_word = tokenizer.index_word[predicted]\n",
    "\n",
    "\t\t# Combine with the seed text\n",
    "\t  seed_text += \" \" + output_word\n",
    "\n",
    "# Print the result\t\n",
    "print(seed_text)"
   ]
  },
  {
   "cell_type": "markdown",
   "metadata": {
    "id": "DP0--sdMUJ_k"
   },
   "source": [
    "## Wrap Up\n",
    "\n",
    "This lab shows the effect of having a larger dataset to train your text generation model. As expected, this will take a longer time to prepare and train but the output will less likely become repetitive or gibberish. Try to tweak the hyperparameters and see if you get better results. You can also find some other text datasets and use it to train the model here.  "
   ]
  }
 ],
 "metadata": {
  "accelerator": "GPU",
  "colab": {
   "collapsed_sections": [],
   "name": "C3_W4_Lab_2_irish_lyrics.ipynb",
   "private_outputs": true,
   "provenance": []
  },
  "kernelspec": {
   "display_name": "Python 3.7.13 ('tensorflow-1-public': venv)",
   "language": "python",
   "name": "python3"
  },
  "language_info": {
   "codemirror_mode": {
    "name": "ipython",
    "version": 3
   },
   "file_extension": ".py",
   "mimetype": "text/x-python",
   "name": "python",
   "nbconvert_exporter": "python",
   "pygments_lexer": "ipython3",
   "version": "3.7.13"
  },
  "vscode": {
   "interpreter": {
    "hash": "48fec8ba1c20c009a355e2e354d6bac7b3b87e7ce91292f937ebe5a547831829"
   }
  }
 },
 "nbformat": 4,
 "nbformat_minor": 1
}
